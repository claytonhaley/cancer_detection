{
 "cells": [
  {
   "cell_type": "code",
   "execution_count": 1,
   "metadata": {},
   "outputs": [],
   "source": [
    "import pandas as pd\n",
    "import numpy as np"
   ]
  },
  {
   "cell_type": "code",
   "execution_count": 2,
   "metadata": {},
   "outputs": [
    {
     "data": {
      "text/html": "<div>\n<style scoped>\n    .dataframe tbody tr th:only-of-type {\n        vertical-align: middle;\n    }\n\n    .dataframe tbody tr th {\n        vertical-align: top;\n    }\n\n    .dataframe thead th {\n        text-align: right;\n    }\n</style>\n<table border=\"1\" class=\"dataframe\">\n  <thead>\n    <tr style=\"text-align: right;\">\n      <th></th>\n      <th>mean_radius</th>\n      <th>mean_texture</th>\n      <th>mean_perimeter</th>\n      <th>mean_area</th>\n      <th>mean_smoothness</th>\n      <th>diagnosis</th>\n    </tr>\n  </thead>\n  <tbody>\n    <tr>\n      <th>0</th>\n      <td>17.99</td>\n      <td>10.38</td>\n      <td>122.80</td>\n      <td>1001.0</td>\n      <td>0.11840</td>\n      <td>0</td>\n    </tr>\n    <tr>\n      <th>1</th>\n      <td>20.57</td>\n      <td>17.77</td>\n      <td>132.90</td>\n      <td>1326.0</td>\n      <td>0.08474</td>\n      <td>0</td>\n    </tr>\n    <tr>\n      <th>2</th>\n      <td>19.69</td>\n      <td>21.25</td>\n      <td>130.00</td>\n      <td>1203.0</td>\n      <td>0.10960</td>\n      <td>0</td>\n    </tr>\n    <tr>\n      <th>3</th>\n      <td>11.42</td>\n      <td>20.38</td>\n      <td>77.58</td>\n      <td>386.1</td>\n      <td>0.14250</td>\n      <td>0</td>\n    </tr>\n    <tr>\n      <th>4</th>\n      <td>20.29</td>\n      <td>14.34</td>\n      <td>135.10</td>\n      <td>1297.0</td>\n      <td>0.10030</td>\n      <td>0</td>\n    </tr>\n    <tr>\n      <th>5</th>\n      <td>12.45</td>\n      <td>15.70</td>\n      <td>82.57</td>\n      <td>477.1</td>\n      <td>0.12780</td>\n      <td>0</td>\n    </tr>\n    <tr>\n      <th>6</th>\n      <td>18.25</td>\n      <td>19.98</td>\n      <td>119.60</td>\n      <td>1040.0</td>\n      <td>0.09463</td>\n      <td>0</td>\n    </tr>\n    <tr>\n      <th>7</th>\n      <td>13.71</td>\n      <td>20.83</td>\n      <td>90.20</td>\n      <td>577.9</td>\n      <td>0.11890</td>\n      <td>0</td>\n    </tr>\n    <tr>\n      <th>8</th>\n      <td>13.00</td>\n      <td>21.82</td>\n      <td>87.50</td>\n      <td>519.8</td>\n      <td>0.12730</td>\n      <td>0</td>\n    </tr>\n    <tr>\n      <th>9</th>\n      <td>12.46</td>\n      <td>24.04</td>\n      <td>83.97</td>\n      <td>475.9</td>\n      <td>0.11860</td>\n      <td>0</td>\n    </tr>\n    <tr>\n      <th>10</th>\n      <td>16.02</td>\n      <td>23.24</td>\n      <td>102.70</td>\n      <td>797.8</td>\n      <td>0.08206</td>\n      <td>0</td>\n    </tr>\n    <tr>\n      <th>11</th>\n      <td>15.78</td>\n      <td>17.89</td>\n      <td>103.60</td>\n      <td>781.0</td>\n      <td>0.09710</td>\n      <td>0</td>\n    </tr>\n    <tr>\n      <th>12</th>\n      <td>19.17</td>\n      <td>24.80</td>\n      <td>132.40</td>\n      <td>1123.0</td>\n      <td>0.09740</td>\n      <td>0</td>\n    </tr>\n    <tr>\n      <th>13</th>\n      <td>15.85</td>\n      <td>23.95</td>\n      <td>103.70</td>\n      <td>782.7</td>\n      <td>0.08401</td>\n      <td>0</td>\n    </tr>\n    <tr>\n      <th>14</th>\n      <td>13.73</td>\n      <td>22.61</td>\n      <td>93.60</td>\n      <td>578.3</td>\n      <td>0.11310</td>\n      <td>0</td>\n    </tr>\n    <tr>\n      <th>15</th>\n      <td>14.54</td>\n      <td>27.54</td>\n      <td>96.73</td>\n      <td>658.8</td>\n      <td>0.11390</td>\n      <td>0</td>\n    </tr>\n    <tr>\n      <th>16</th>\n      <td>14.68</td>\n      <td>20.13</td>\n      <td>94.74</td>\n      <td>684.5</td>\n      <td>0.09867</td>\n      <td>0</td>\n    </tr>\n    <tr>\n      <th>17</th>\n      <td>16.13</td>\n      <td>20.68</td>\n      <td>108.10</td>\n      <td>798.8</td>\n      <td>0.11700</td>\n      <td>0</td>\n    </tr>\n    <tr>\n      <th>18</th>\n      <td>19.81</td>\n      <td>22.15</td>\n      <td>130.00</td>\n      <td>1260.0</td>\n      <td>0.09831</td>\n      <td>0</td>\n    </tr>\n    <tr>\n      <th>19</th>\n      <td>13.54</td>\n      <td>14.36</td>\n      <td>87.46</td>\n      <td>566.3</td>\n      <td>0.09779</td>\n      <td>1</td>\n    </tr>\n  </tbody>\n</table>\n</div>",
      "text/plain": "    mean_radius  mean_texture  mean_perimeter  mean_area  mean_smoothness  \\\n0         17.99         10.38          122.80     1001.0          0.11840   \n1         20.57         17.77          132.90     1326.0          0.08474   \n2         19.69         21.25          130.00     1203.0          0.10960   \n3         11.42         20.38           77.58      386.1          0.14250   \n4         20.29         14.34          135.10     1297.0          0.10030   \n5         12.45         15.70           82.57      477.1          0.12780   \n6         18.25         19.98          119.60     1040.0          0.09463   \n7         13.71         20.83           90.20      577.9          0.11890   \n8         13.00         21.82           87.50      519.8          0.12730   \n9         12.46         24.04           83.97      475.9          0.11860   \n10        16.02         23.24          102.70      797.8          0.08206   \n11        15.78         17.89          103.60      781.0          0.09710   \n12        19.17         24.80          132.40     1123.0          0.09740   \n13        15.85         23.95          103.70      782.7          0.08401   \n14        13.73         22.61           93.60      578.3          0.11310   \n15        14.54         27.54           96.73      658.8          0.11390   \n16        14.68         20.13           94.74      684.5          0.09867   \n17        16.13         20.68          108.10      798.8          0.11700   \n18        19.81         22.15          130.00     1260.0          0.09831   \n19        13.54         14.36           87.46      566.3          0.09779   \n\n    diagnosis  \n0           0  \n1           0  \n2           0  \n3           0  \n4           0  \n5           0  \n6           0  \n7           0  \n8           0  \n9           0  \n10          0  \n11          0  \n12          0  \n13          0  \n14          0  \n15          0  \n16          0  \n17          0  \n18          0  \n19          1  "
     },
     "execution_count": 2,
     "metadata": {},
     "output_type": "execute_result"
    }
   ],
   "source": [
    "data = pd.read_csv('Breast_cancer_data.csv')\n",
    "data.head(20)"
   ]
  },
  {
   "cell_type": "code",
   "execution_count": 3,
   "metadata": {},
   "outputs": [],
   "source": [
    "X = data.iloc[:,:-1]\n",
    "y = data.iloc[:,-1]"
   ]
  },
  {
   "cell_type": "code",
   "execution_count": 10,
   "metadata": {},
   "outputs": [],
   "source": [
    "from sklearn.model_selection import train_test_split\n",
    "\n",
    "X_train, X_test, y_train, y_test = train_test_split(X, y, test_size=0.25, random_state=0)"
   ]
  },
  {
   "cell_type": "code",
   "execution_count": 17,
   "metadata": {},
   "outputs": [],
   "source": [
    "from sklearn import svm\n",
    "from sklearn.ensemble import RandomForestClassifier\n",
    "from sklearn.linear_model import LogisticRegression\n",
    "from sklearn.naive_bayes import GaussianNB\n",
    "from sklearn.tree import DecisionTreeClassifier"
   ]
  },
  {
   "cell_type": "code",
   "execution_count": 28,
   "metadata": {},
   "outputs": [],
   "source": [
    "model_params = {\n",
    "    \"svm\": {\n",
    "        \"model\": svm.SVC(gamma=\"auto\"),\n",
    "        \"params\": {\n",
    "            \"C\": [1,10,20],\n",
    "            \"kernel\": [\"rbf\", \"linear\", \"sigmoid\"]\n",
    "        }\n",
    "    },\n",
    "    \"random_forest\": {\n",
    "        \"model\": RandomForestClassifier(),\n",
    "        \"params\": {\n",
    "            \"n_estimators\": [1,5,10, 20],\n",
    "            \"criterion\": ['gini', 'entropy']\n",
    "        }\n",
    "    },\n",
    "    \"logistic_regression\": {\n",
    "        \"model\": LogisticRegression(solver='liblinear', multi_class='auto'),\n",
    "        \"params\": {\n",
    "            \"C\": [1,5,10,20]\n",
    "        }\n",
    "    },\n",
    "    \"gaussian_nb\": {\n",
    "        \"model\": GaussianNB(priors=None),\n",
    "        \"params\": {\n",
    "            \"var_smoothing\": [1e-9, 1e-10, 1e-5, 1e-20, 1e-15]\n",
    "        }\n",
    "    },\n",
    "    \"decision_tree\": {\n",
    "        \"model\": DecisionTreeClassifier(),\n",
    "        \"params\": {\n",
    "            \"criterion\": ['gini', 'entropy'],\n",
    "            \"splitter\": ['best', 'random']\n",
    "\n",
    "        }\n",
    "    }\n",
    "}"
   ]
  },
  {
   "cell_type": "code",
   "execution_count": 29,
   "metadata": {},
   "outputs": [],
   "source": [
    "from sklearn.model_selection import GridSearchCV\n",
    "\n",
    "scores = []\n",
    "\n",
    "for model_name, mp in  model_params.items():\n",
    "    clf = GridSearchCV(mp['model'], mp['params'], cv=5, return_train_score=False)\n",
    "    clf.fit(X_train, y_train)\n",
    "    scores.append({\n",
    "        'model': model_name,\n",
    "        'best_score': clf.best_score_,\n",
    "        'best_params': clf.best_params_\n",
    "    })\n"
   ]
  },
  {
   "cell_type": "code",
   "execution_count": 30,
   "metadata": {},
   "outputs": [
    {
     "data": {
      "text/html": "<div>\n<style scoped>\n    .dataframe tbody tr th:only-of-type {\n        vertical-align: middle;\n    }\n\n    .dataframe tbody tr th {\n        vertical-align: top;\n    }\n\n    .dataframe thead th {\n        text-align: right;\n    }\n</style>\n<table border=\"1\" class=\"dataframe\">\n  <thead>\n    <tr style=\"text-align: right;\">\n      <th></th>\n      <th>model</th>\n      <th>best_score</th>\n      <th>best_params</th>\n    </tr>\n  </thead>\n  <tbody>\n    <tr>\n      <th>0</th>\n      <td>svm</td>\n      <td>0.917840</td>\n      <td>{'C': 20, 'kernel': 'linear'}</td>\n    </tr>\n    <tr>\n      <th>1</th>\n      <td>random_forest</td>\n      <td>0.917840</td>\n      <td>{'criterion': 'entropy', 'n_estimators': 10}</td>\n    </tr>\n    <tr>\n      <th>2</th>\n      <td>logistic_regression</td>\n      <td>0.917840</td>\n      <td>{'C': 10}</td>\n    </tr>\n    <tr>\n      <th>3</th>\n      <td>gaussian_nb</td>\n      <td>0.901408</td>\n      <td>{'var_smoothing': 1e-20}</td>\n    </tr>\n    <tr>\n      <th>4</th>\n      <td>decision_tree</td>\n      <td>0.892019</td>\n      <td>{'criterion': 'gini', 'splitter': 'random'}</td>\n    </tr>\n  </tbody>\n</table>\n</div>",
      "text/plain": "                 model  best_score  \\\n0                  svm    0.917840   \n1        random_forest    0.917840   \n2  logistic_regression    0.917840   \n3          gaussian_nb    0.901408   \n4        decision_tree    0.892019   \n\n                                    best_params  \n0                 {'C': 20, 'kernel': 'linear'}  \n1  {'criterion': 'entropy', 'n_estimators': 10}  \n2                                     {'C': 10}  \n3                      {'var_smoothing': 1e-20}  \n4   {'criterion': 'gini', 'splitter': 'random'}  "
     },
     "execution_count": 30,
     "metadata": {},
     "output_type": "execute_result"
    }
   ],
   "source": [
    "results_df = pd.DataFrame(scores, columns=['model', 'best_score', 'best_params'])\n",
    "results_df"
   ]
  },
  {
   "cell_type": "code",
   "execution_count": 31,
   "metadata": {},
   "outputs": [
    {
     "data": {
      "text/plain": "SVC(C=20, cache_size=200, class_weight=None, coef0=0.0,\n    decision_function_shape='ovr', degree=3, gamma='auto_deprecated',\n    kernel='linear', max_iter=-1, probability=False, random_state=None,\n    shrinking=True, tol=0.001, verbose=False)"
     },
     "execution_count": 31,
     "metadata": {},
     "output_type": "execute_result"
    }
   ],
   "source": [
    "classifier = svm.SVC(C=20, kernel='linear')\n",
    "classifier.fit(X_train, y_train)"
   ]
  },
  {
   "cell_type": "code",
   "execution_count": 32,
   "metadata": {},
   "outputs": [],
   "source": [
    "y_pred = classifier.predict(X_test)"
   ]
  },
  {
   "cell_type": "code",
   "execution_count": 33,
   "metadata": {},
   "outputs": [],
   "source": [
    "from sklearn.metrics import accuracy_score\n",
    "score = accuracy_score(y_test, y_pred)"
   ]
  },
  {
   "cell_type": "code",
   "execution_count": 34,
   "metadata": {},
   "outputs": [
    {
     "data": {
      "text/plain": "0.9090909090909091"
     },
     "execution_count": 34,
     "metadata": {},
     "output_type": "execute_result"
    }
   ],
   "source": [
    "score"
   ]
  },
  {
   "cell_type": "code",
   "execution_count": 35,
   "metadata": {},
   "outputs": [],
   "source": [
    "import pickle\n",
    "pickle_out = open(\"classifier.pkl\", \"wb\")\n",
    "pickle.dump(classifier, pickle_out)\n",
    "pickle_out.close()"
   ]
  }
 ],
 "metadata": {
  "kernelspec": {
   "display_name": "Python 3.7.6 64-bit ('base': conda)",
   "name": "python376jvsc74a57bd0de52c16fd3902ed8a5f42ed89209bec429aa682cf46bab09641770494c01fcb6"
  },
  "language_info": {
   "codemirror_mode": {
    "name": "ipython",
    "version": 3
   },
   "file_extension": ".py",
   "mimetype": "text/x-python",
   "name": "python",
   "nbconvert_exporter": "python",
   "pygments_lexer": "ipython3",
   "version": "3.7.6"
  },
  "metadata": {
   "interpreter": {
    "hash": "31f2aee4e71d21fbe5cf8b01ff0e069b9275f58929596ceb00d14d90e3e16cd6"
   }
  },
  "orig_nbformat": 2
 },
 "nbformat": 4,
 "nbformat_minor": 2
}